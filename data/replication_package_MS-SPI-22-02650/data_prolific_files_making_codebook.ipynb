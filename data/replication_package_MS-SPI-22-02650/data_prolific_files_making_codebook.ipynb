{
 "cells": [
  {
   "cell_type": "code",
   "execution_count": 1,
   "id": "666afdc5-dce3-4b9f-8731-3d7bc086b8a9",
   "metadata": {},
   "outputs": [
    {
     "name": "stdout",
     "output_type": "stream",
     "text": [
      "                 File Name                   Column Name\n",
      "0    jackknife_finquiz.csv              player.payoff_Q1\n",
      "1    jackknife_finquiz.csv              player.payoff_Q2\n",
      "2    jackknife_finquiz.csv              player.payoff_Q3\n",
      "3    jackknife_finquiz.csv              player.payoff_Q4\n",
      "4    jackknife_finquiz.csv              player.payoff_Q5\n",
      "..                     ...                           ...\n",
      "305       panel_trades.csv         player.sr_better_decs\n",
      "306       panel_trades.csv  player.sr_better_have_option\n",
      "307       panel_trades.csv       player.sr_notifications\n",
      "308       panel_trades.csv              player.sr_badges\n",
      "309       panel_trades.csv            player.sr_confetti\n",
      "\n",
      "[310 rows x 2 columns]\n"
     ]
    }
   ],
   "source": [
    "import pandas as pd\n",
    "import os\n",
    "\n",
    "# Directory where your CSV files are stored\n",
    "folder_path = '/Users/chapkovski/Documents/gamification_investor_behavior/data_processed'\n",
    "\n",
    "# List to store the file name and column names\n",
    "data = []\n",
    "\n",
    "# Iterating over each file in the directory\n",
    "for file in os.listdir(folder_path):\n",
    "    if file.endswith('.csv'):\n",
    "        file_path = os.path.join(folder_path, file)\n",
    "        df = pd.read_csv(file_path)\n",
    "        df.drop(df.columns[0], axis=1, inplace=True)\n",
    "        # Extracting each column name and appending it with the file name\n",
    "        for column in df.columns:\n",
    "            data.append((file, column))\n",
    "\n",
    "# Creating a DataFrame\n",
    "result_df = pd.DataFrame(data, columns=['File Name', 'Column Name'])\n",
    "print(result_df)\n",
    "# Exporting to a new CSV file\n",
    "result_df.to_csv('~/documents/codebook_data_processed_files.csv', index=False)\n"
   ]
  },
  {
   "cell_type": "code",
   "execution_count": 25,
   "id": "edb11803-0376-456f-b9e6-f930129367b7",
   "metadata": {},
   "outputs": [
    {
     "name": "stdout",
     "output_type": "stream",
     "text": [
      "Index(['filename', 'variable_name', 'description'], dtype='object')\n",
      "                filename     variable_name  \\\n",
      "0  jackknife_finquiz.csv  player.payoff_Q1   \n",
      "1  jackknife_finquiz.csv  player.payoff_Q2   \n",
      "2  jackknife_finquiz.csv  player.payoff_Q3   \n",
      "3  jackknife_finquiz.csv  player.payoff_Q4   \n",
      "4  jackknife_finquiz.csv  player.payoff_Q5   \n",
      "\n",
      "                                         description  \n",
      "0   The sum of correct answers given by a partici...  \n",
      "1   The sum of correct answers given by a partici...  \n",
      "2   The sum of correct answers given by a partici...  \n",
      "3   The sum of correct answers given by a partici...  \n",
      "4   The sum of correct answers given by a partici...  \n"
     ]
    }
   ],
   "source": [
    "filledinfieldsdf = pd.read_csv(\"/Users/chapkovski/Documents/codebook_data_processed_handmade.csv\", encoding='ISO-8859-1')\n",
    "print(filledinfieldsdf.columns)\n",
    "\n",
    "\n",
    "df = pd.read_csv('/Users/chapkovski/Documents/codebook_data_processed_files.csv')\n",
    "\n",
    "# # Get unique values from 'Column Name' column\n",
    "df.rename(columns={'Column Name': 'variable_name','File Name': 'filename'}, inplace=True)\n",
    "\n",
    "df=df.merge(filledinfieldsdf, on=['variable_name'], how='left')\n",
    "df.drop(['filename_y'], axis=1, inplace=True)\n",
    "df.rename(columns={'filename_x': 'filename'}, inplace=True)\n",
    "df.to_csv('/Users/chapkovski/Documents/codebook_data_processed_filesFILLED.csv', index=False)\n",
    "\n",
    "\n",
    "rawnamesdf=pd.read_excel('/Users/chapkovski/Documents/gamification_investor_behavior/codebooks/codebook_gamification_raw_data.xlsx')\n",
    "\n",
    "\n",
    "# # Drop duplicates in the right DataFrame\n",
    "rawnamesdf_unique = rawnamesdf.drop_duplicates(subset='variable_name')\n",
    "# let's keep onl variable_name and description column in rawnamesdf_unique\n",
    "rawnamesdf_unique=rawnamesdf_unique[['variable_name', 'description']]\n",
    "# # Perform a left join using the modified right DataFrame\n",
    "joined_df = df.merge(rawnamesdf_unique, on='variable_name', how='left')\n",
    "joined_df['description'] = joined_df['description_x'].combine_first(joined_df['description_y'])\n",
    "joined_df.drop(['description_x', 'description_y'], axis=1, inplace=True)\n",
    "# joined_df=joined_df.drop_duplicates(subset=['filename', 'variable_name'])\n",
    "print(joined_df.head())\n",
    "joined_df.to_csv('/Users/chapkovski/Documents/codebook_data_processed_files1111.csv', index=False)"
   ]
  },
  {
   "cell_type": "code",
   "execution_count": null,
   "id": "e866183e-660f-4dcc-bb8a-f0e0be4776e5",
   "metadata": {},
   "outputs": [],
   "source": []
  }
 ],
 "metadata": {
  "kernelspec": {
   "display_name": "Python 3 (ipykernel)",
   "language": "python",
   "name": "python3"
  },
  "language_info": {
   "codemirror_mode": {
    "name": "ipython",
    "version": 3
   },
   "file_extension": ".py",
   "mimetype": "text/x-python",
   "name": "python",
   "nbconvert_exporter": "python",
   "pygments_lexer": "ipython3",
   "version": "3.10.13"
  }
 },
 "nbformat": 4,
 "nbformat_minor": 5
}
